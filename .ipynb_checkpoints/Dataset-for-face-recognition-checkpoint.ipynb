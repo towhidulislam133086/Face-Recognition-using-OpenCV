{
 "cells": [
  {
   "cell_type": "code",
   "execution_count": 2,
   "metadata": {},
   "outputs": [
    {
     "ename": "error",
     "evalue": "OpenCV(4.1.0) ..\\modules\\objdetect\\src\\cascadedetect.cpp:1658: error: (-215:Assertion failed) !empty() in function 'cv::CascadeClassifier::detectMultiScale'\n",
     "output_type": "error",
     "traceback": [
      "\u001b[1;31m---------------------------------------------------------------------------\u001b[0m",
      "\u001b[1;31merror\u001b[0m                                     Traceback (most recent call last)",
      "\u001b[1;32m<ipython-input-2-359777d9561e>\u001b[0m in \u001b[0;36m<module>\u001b[1;34m()\u001b[0m\n\u001b[0;32m     33\u001b[0m     \u001b[0mgrayImg\u001b[0m \u001b[1;33m=\u001b[0m \u001b[0mcv2\u001b[0m\u001b[1;33m.\u001b[0m\u001b[0mcvtColor\u001b[0m\u001b[1;33m(\u001b[0m\u001b[0mimg\u001b[0m\u001b[1;33m,\u001b[0m \u001b[0mcv2\u001b[0m\u001b[1;33m.\u001b[0m\u001b[0mCOLOR_BGR2GRAY\u001b[0m\u001b[1;33m)\u001b[0m \u001b[1;31m# Converting gray scale image\u001b[0m\u001b[1;33m\u001b[0m\u001b[0m\n\u001b[0;32m     34\u001b[0m \u001b[1;33m\u001b[0m\u001b[0m\n\u001b[1;32m---> 35\u001b[1;33m     \u001b[0mface\u001b[0m \u001b[1;33m=\u001b[0m \u001b[0mhaar_cascade\u001b[0m\u001b[1;33m.\u001b[0m\u001b[0mdetectMultiScale\u001b[0m\u001b[1;33m(\u001b[0m\u001b[0mgrayImg\u001b[0m\u001b[1;33m,\u001b[0m \u001b[1;36m1.3\u001b[0m\u001b[1;33m,\u001b[0m \u001b[1;36m4\u001b[0m\u001b[1;33m)\u001b[0m \u001b[1;31m# gives the parameter of the face->src, scalefactor,minNeighbors\u001b[0m\u001b[1;33m\u001b[0m\u001b[0m\n\u001b[0m\u001b[0;32m     36\u001b[0m \u001b[1;33m\u001b[0m\u001b[0m\n\u001b[0;32m     37\u001b[0m     \u001b[1;31m# Counting and utilizing the face parameter to crop only the face image...\u001b[0m\u001b[1;33m\u001b[0m\u001b[1;33m\u001b[0m\u001b[0m\n",
      "\u001b[1;31merror\u001b[0m: OpenCV(4.1.0) ..\\modules\\objdetect\\src\\cascadedetect.cpp:1658: error: (-215:Assertion failed) !empty() in function 'cv::CascadeClassifier::detectMultiScale'\n"
     ]
    }
   ],
   "source": [
    "import cv2\n",
    "import os # for creating a directory\n",
    "\n",
    "# Make a folder named dataset and a subfolder named champ. In which all the data are saved\n",
    "\n",
    "dataset = \"dataset\" #dataset name\n",
    "\n",
    "name = \"salim\"  # sub-dataset name\n",
    "\n",
    "# creating folder and save name with this name\n",
    "\n",
    "path = os.path.join(dataset, name) # forms like (dataset/champ)--> folder directory\n",
    "\n",
    "# Checking the availability of path. If not then create one.\n",
    "\n",
    "if not os.path.isdir(path):\n",
    "    os.mkdir(path)\n",
    "    \n",
    "# Initializing width and height for better image\n",
    "(width, height) = (130, 100)\n",
    "\n",
    "\n",
    "alg = \"haarcascade_frontalface_default.xml\"\n",
    "haar_cascade = cv2.CascadeClassifier(alg) # Load the algorithm\n",
    "\n",
    "cam = cv2.VideoCapture(0) # Initializing the camera\n",
    "\n",
    "count = 1\n",
    "\n",
    "#creating dataset with 30 image\n",
    "while count < 31:  \n",
    "    _,img = cam.read() # reading frame from the camera\n",
    "    grayImg = cv2.cvtColor(img, cv2.COLOR_BGR2GRAY) # Converting gray scale image\n",
    "    \n",
    "    face = haar_cascade.detectMultiScale(grayImg, 1.3, 4) # gives the parameter of the face->src, scalefactor,minNeighbors\n",
    "    \n",
    "    # Counting and utilizing the face parameter to crop only the face image...\n",
    "    \n",
    "    for(x,y,w,h) in face:\n",
    "        cv2.rectangle(img, (x,y), (x+w, y+h), (0, 255, 0), 2) # Draw rectangle with the face-> src, coordinate, color, thickness\n",
    "        \n",
    "        #To crop the face only\n",
    "    \n",
    "        faceOnly = grayImg[y:y+h, x:x+w]\n",
    "    \n",
    "        resizeImg = cv2.resize(faceOnly, (width, height)) # Resizing the image\n",
    "    \n",
    "        cv2.imwrite(\"%s/%s.jpg\" %(path, count), resizeImg) # saving the image like 1.jpg, 2.jpg\n",
    "        count+=1\n",
    "    \n",
    "    cv2.imshow(\"FaceDetection\", img) #Display the face rectangle\n",
    "    \n",
    "    key = cv2.waitKey(1) & 0xFF # For closing the window\n",
    "    if key == ord(\"q\"):\n",
    "        break\n",
    "        \n",
    "cam.release()  \n",
    "cv2.destroyAllWindows()"
   ]
  },
  {
   "cell_type": "code",
   "execution_count": null,
   "metadata": {},
   "outputs": [],
   "source": []
  }
 ],
 "metadata": {
  "kernelspec": {
   "display_name": "Python 3",
   "language": "python",
   "name": "python3"
  },
  "language_info": {
   "codemirror_mode": {
    "name": "ipython",
    "version": 3
   },
   "file_extension": ".py",
   "mimetype": "text/x-python",
   "name": "python",
   "nbconvert_exporter": "python",
   "pygments_lexer": "ipython3",
   "version": "3.6.4"
  }
 },
 "nbformat": 4,
 "nbformat_minor": 2
}
